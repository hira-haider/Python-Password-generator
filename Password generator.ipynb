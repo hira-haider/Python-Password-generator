{
 "cells": [
  {
   "cell_type": "code",
   "execution_count": 9,
   "id": "bd4ad5d7",
   "metadata": {},
   "outputs": [],
   "source": [
    "import tkinter as tk\n",
    "import tkinter.ttk as ttk\n",
    "import secrets\n",
    "import string\n",
    "\n",
    "class PasswordGeneratorApp:\n",
    "    def __init__(self, root):\n",
    "        self.root = root\n",
    "        self.root.title(\"Password Generator\")\n",
    "\n",
    "        self.length_label = ttk.Label(root, text=\"Password Length:\")\n",
    "        self.length_label.grid(row=0, column=0, padx=5, pady=5)\n",
    "\n",
    "        self.length_entry = ttk.Entry(root)\n",
    "        self.length_entry.grid(row=0, column=1, padx=5, pady=5)\n",
    "\n",
    "        self.generate_button = ttk.Button(root, text=\"Generate Password\", command=self.generate_password)\n",
    "        self.generate_button.grid(row=1, column=0, columnspan=2, padx=5, pady=5)\n",
    "\n",
    "        self.password_label = ttk.Label(root, text=\"\")\n",
    "        self.password_label.grid(row=2, column=0, columnspan=2, padx=5, pady=5)\n",
    "\n",
    "    def generate_password(self):\n",
    "        try:\n",
    "            length = int(self.length_entry.get())\n",
    "            if length <= 0:\n",
    "                raise ValueError\n",
    "            password = self.generate_random_password(length)\n",
    "            self.password_label.config(text=f\"Generated Password: {password}\")\n",
    "        except ValueError:\n",
    "            self.password_label.config(text=\"Invalid length. Please enter a positive integer.\")\n",
    "\n",
    "    def generate_random_password(self, length):\n",
    "        alphabet = string.ascii_letters + string.digits + string.punctuation\n",
    "        password = ''.join(secrets.choice(alphabet) for _ in range(length))\n",
    "        return password\n",
    "\n",
    "def main():\n",
    "    root = tk.Tk()\n",
    "    app = PasswordGeneratorApp(root)\n",
    "    root.mainloop()\n",
    "\n",
    "if __name__ == \"__main__\":\n",
    "    main()\n"
   ]
  }
 ],
 "metadata": {
  "kernelspec": {
   "display_name": "Python 3 (ipykernel)",
   "language": "python",
   "name": "python3"
  },
  "language_info": {
   "codemirror_mode": {
    "name": "ipython",
    "version": 3
   },
   "file_extension": ".py",
   "mimetype": "text/x-python",
   "name": "python",
   "nbconvert_exporter": "python",
   "pygments_lexer": "ipython3",
   "version": "3.11.5"
  }
 },
 "nbformat": 4,
 "nbformat_minor": 5
}
